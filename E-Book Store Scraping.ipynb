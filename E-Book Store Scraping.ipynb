{
 "cells": [
  {
   "cell_type": "markdown",
   "id": "ffa337b8",
   "metadata": {},
   "source": [
    "# E-Book Store Scraping"
   ]
  },
  {
   "cell_type": "markdown",
   "id": "4d2db38f",
   "metadata": {},
   "source": [
    "## Scraping through an online book store to collect information."
   ]
  },
  {
   "cell_type": "code",
   "execution_count": 2,
   "id": "7600b451",
   "metadata": {},
   "outputs": [],
   "source": [
    "import requests as r\n",
    "import bs4"
   ]
  },
  {
   "cell_type": "code",
   "execution_count": 6,
   "id": "44676be7",
   "metadata": {},
   "outputs": [
    {
     "name": "stdout",
     "output_type": "stream",
     "text": [
      "[<Response [200]>, <Response [200]>, <Response [200]>, <Response [200]>, <Response [200]>]\n"
     ]
    }
   ],
   "source": [
    "url_format = \"https://books.toscrape.com/catalogue/category/books_1/page-1.html\"\n",
    "no_of_pages = 5\n",
    "\n",
    "urls = []\n",
    "\n",
    "#Populate the urls to be scraped\n",
    "for i in range(1,no_of_pages+1):\n",
    "    requested_url = r.get(\"https://books.toscrape.com/catalogue/category/books_1/page-{}.html\".format(i))\n",
    "    urls.append(requested_url)\n",
    "    \n",
    "print(urls)"
   ]
  },
  {
   "cell_type": "code",
   "execution_count": 21,
   "id": "b8fff4f9",
   "metadata": {},
   "outputs": [],
   "source": [
    "#Parse the request objects and create soup objects\n",
    "\n",
    "soups = []\n",
    "\n",
    "for i in range(0, len(urls)):\n",
    "    soup = bs4.BeautifulSoup(urls[i].text, \"html.parser\")\n",
    "    soups.append(soup)   "
   ]
  },
  {
   "cell_type": "markdown",
   "id": "b26cb497",
   "metadata": {},
   "source": [
    "### Book Titles"
   ]
  },
  {
   "cell_type": "code",
   "execution_count": 54,
   "id": "d51af311",
   "metadata": {},
   "outputs": [
    {
     "name": "stdout",
     "output_type": "stream",
     "text": [
      "['\"A Light in the Attic\"', '\"Tipping the Velvet\"', '\"Soumission\"', '\"Sharp Objects\"', '\"Sapiens: A Brief History of Humankind\"', '\"The Requiem Red\"', '\"The Dirty Little Secrets of Getting Your Dream Job\"', '\"The Coming Woman: A Novel Based on the Life of the Infamous Feminist, Victoria Woodhull\"', '\"The Boys in the Boat: Nine Americans and Their Epic Quest for Gold at the 1936 Berlin Olympics\"', '\"The Black Maria\"', '\"Starving Hearts (Triangular Trade Trilogy, #1)\"', '\"Shakespeare\\'s Sonnets\"', '\"Set Me Free\"', '\"Scott Pilgrim\\'s Precious Little Life (Scott Pilgrim #1)\"', '\"Rip it Up and Start Again\"', '\"Our Band Could Be Your Life: Scenes from the American Indie Underground, 1981-1991\"', '\"Olio\"', '\"Mesaerion: The Best Science Fiction Stories 1800-1849\"', '\"Libertarianism for Beginners\"', '\"It\\'s Only the Himalayas\"', '\"In Her Wake\"', '\"How Music Works\"', '\"Foolproof Preserving: A Guide to Small Batch Jams, Jellies, Pickles, Condiments, and More: A Foolproof Guide to Making Small Batch Jams, Jellies, Pickles, Condiments, and More\"', '\"Chase Me (Paris Nights #2)\"', '\"Black Dust\"', '\"Birdsong: A Story in Pictures\"', '\"America\\'s Cradle of Quarterbacks: Western Pennsylvania\\'s Football Factory from Johnny Unitas to Joe Montana\"', '\"Aladdin and His Wonderful Lamp\"', '\"Worlds Elsewhere: Journeys Around Shakespeareâ\\x80\\x99s Globe\"', '\"Wall and Piece\"', '\"The Four Agreements: A Practical Guide to Personal Freedom\"', '\"The Five Love Languages: How to Express Heartfelt Commitment to Your Mate\"', '\"The Elephant Tree\"', '\"The Bear and the Piano\"', '\"Sophie\\'s World\"', '\"Penny Maybe\"', '\"Maude (1883-1993):She Grew Up with the country\"', '\"In a Dark, Dark Wood\"', '\"Behind Closed Doors\"', '\"You can\\'t bury them all: Poems\"', '\"Slow States of Collapse: Poems\"', '\"Reasons to Stay Alive\"', '\"Private Paris (Private #10)\"', '\"#HigherSelfie: Wake Up Your Life. Free Your Soul. Find Your Tribe.\"', '\"Without Borders (Wanderlove #1)\"', '\"When We Collided\"', '\"We Love You, Charlie Freeman\"', '\"Untitled Collection: Sabbath Poems 2014\"', '\"Unseen City: The Majesty of Pigeons, the Discreet Charm of Snails &amp; Other Wonders of the Urban Wilderness\"', '\"Unicorn Tracks\"', '\"Unbound: How Eight Technologies Made Us Human, Transformed Society, and Brought Our World to the Brink\"', '\"Tsubasa: WoRLD CHRoNiCLE 2 (Tsubasa WoRLD CHRoNiCLE #2)\"', '\"Throwing Rocks at the Google Bus: How Growth Became the Enemy of Prosperity\"', '\"This One Summer\"', '\"Thirst\"', '\"The Torch Is Passed: A Harding Family Story\"', '\"The Secret of Dreadwillow Carse\"', '\"The Pioneer Woman Cooks: Dinnertime: Comfort Classics, Freezer Food, 16-Minute Meals, and Other Delicious Ways to Solve Supper!\"', '\"The Past Never Ends\"', '\"The Natural History of Us (The Fine Art of Pretending #2)\"', '\"The Nameless City (The Nameless City #1)\"', '\"The Murder That Never Was (Forensic Instincts #5)\"', '\"The Most Perfect Thing: Inside (and Outside) a Bird\\'s Egg\"', '\"The Mindfulness and Acceptance Workbook for Anxiety: A Guide to Breaking Free from Anxiety, Phobias, and Worry Using Acceptance and Commitment Therapy\"', '\"The Life-Changing Magic of Tidying Up: The Japanese Art of Decluttering and Organizing\"', '\"The Inefficiency Assassin: Time Management Tactics for Working Smarter, Not Longer\"', '\"The Gutsy Girl: Escapades for Your Life of Epic Adventure\"', '\"The Electric Pencil: Drawings from Inside State Hospital No. 3\"', '\"The Death of Humanity: and the Case for Life\"', '\"The Bulletproof Diet: Lose up to a Pound a Day, Reclaim Energy and Focus, Upgrade Your Life\"', '\"The Art Forger\"', '\"The Age of Genius: The Seventeenth Century and the Birth of the Modern Mind\"', '\"The Activist\\'s Tao Te Ching: Ancient Advice for a Modern Revolution\"', '\"Spark Joy: An Illustrated Master Class on the Art of Organizing and Tidying Up\"', '\"Soul Reader\"', '\"Security\"', '\"Saga, Volume 6 (Saga (Collected Editions) #6)\"', '\"Saga, Volume 5 (Saga (Collected Editions) #5)\"', '\"Reskilling America: Learning to Labor in the Twenty-First Century\"', '\"Rat Queens, Vol. 3: Demons (Rat Queens (Collected Editions) #11-15)\"', '\"Princess Jellyfish 2-in-1 Omnibus, Vol. 01 (Princess Jellyfish 2-in-1 Omnibus #1)\"', '\"Princess Between Worlds (Wide-Awake Princess #5)\"', '\"Pop Gun War, Volume 1: Gift\"', '\"Political Suicide: Missteps, Peccadilloes, Bad Calls, Backroom Hijinx, Sordid Pasts, Rotten Breaks, and Just Plain Dumb Mistakes in the Annals of American Politics\"', '\"Patience\"', '\"Outcast, Vol. 1: A Darkness Surrounds Him (Outcast #1)\"', '\"orange: The Complete Collection 1 (orange: The Complete Collection #1)\"', '\"Online Marketing for Busy Authors: A Step-By-Step Guide\"', '\"On a Midnight Clear\"', '\"Obsidian (Lux #1)\"', '\"My Paris Kitchen: Recipes and Stories\"', '\"Masks and Shadows\"', '\"Mama Tried: Traditional Italian Cooking for the Screwed, Crude, Vegan, and Tattooed\"', '\"Lumberjanes, Vol. 2: Friendship to the Max (Lumberjanes #5-8)\"', '\"Lumberjanes, Vol. 1: Beware the Kitten Holy (Lumberjanes #1-4)\"', '\"Lumberjanes Vol. 3: A Terrible Plan (Lumberjanes #9-12)\"', '\"Layered: Baking, Building, and Styling Spectacular Cakes\"', '\"Judo: Seven Steps to Black Belt (an Introductory Guide for Beginners)\"', '\"Join\"', '\"In the Country We Love: My Family Divided\"']\n"
     ]
    }
   ],
   "source": [
    "#populate the titles in all the pages\n",
    "book_titles = []\n",
    "for i in range(0, len(soups)):\n",
    "    titles = soups[i].find_all(\"h3\") \n",
    "    for b in range(0, len(titles)):\n",
    "        book = str(titles[b]).split('title=')[1].split(\">\")[0]\n",
    "        book_titles.append(book)\n",
    "        \n",
    "print(book_titles)"
   ]
  },
  {
   "cell_type": "markdown",
   "id": "8e52ebdf",
   "metadata": {},
   "source": [
    "### Book Price"
   ]
  },
  {
   "cell_type": "code",
   "execution_count": 58,
   "id": "c587b082",
   "metadata": {},
   "outputs": [
    {
     "data": {
      "text/plain": [
       "'Â£51.77'"
      ]
     },
     "execution_count": 58,
     "metadata": {},
     "output_type": "execute_result"
    }
   ],
   "source": [
    "soups[0].find_all(\"p\", \"price_color\")[0].getText()"
   ]
  },
  {
   "cell_type": "code",
   "execution_count": 61,
   "id": "be00872c",
   "metadata": {},
   "outputs": [
    {
     "name": "stdout",
     "output_type": "stream",
     "text": [
      "['Â£51.77', 'Â£53.74', 'Â£50.10', 'Â£47.82', 'Â£54.23', 'Â£22.65', 'Â£33.34', 'Â£17.93', 'Â£22.60', 'Â£52.15', 'Â£13.99', 'Â£20.66', 'Â£17.46', 'Â£52.29', 'Â£35.02', 'Â£57.25', 'Â£23.88', 'Â£37.59', 'Â£51.33', 'Â£45.17', 'Â£12.84', 'Â£37.32', 'Â£30.52', 'Â£25.27', 'Â£34.53', 'Â£54.64', 'Â£22.50', 'Â£53.13', 'Â£40.30', 'Â£44.18', 'Â£17.66', 'Â£31.05', 'Â£23.82', 'Â£36.89', 'Â£15.94', 'Â£33.29', 'Â£18.02', 'Â£19.63', 'Â£52.22', 'Â£33.63', 'Â£57.31', 'Â£26.41', 'Â£47.61', 'Â£23.11', 'Â£45.07', 'Â£31.77', 'Â£50.27', 'Â£14.27', 'Â£44.18', 'Â£18.78', 'Â£25.52', 'Â£16.28', 'Â£31.12', 'Â£19.49', 'Â£17.27', 'Â£19.09', 'Â£56.13', 'Â£56.41', 'Â£56.50', 'Â£45.22', 'Â£38.16', 'Â£54.11', 'Â£42.96', 'Â£23.89', 'Â£16.77', 'Â£20.59', 'Â£37.13', 'Â£56.06', 'Â£58.11', 'Â£49.05', 'Â£40.76', 'Â£19.73', 'Â£32.24', 'Â£41.83', 'Â£39.58', 'Â£39.25', 'Â£25.02', 'Â£51.04', 'Â£19.83', 'Â£50.40', 'Â£13.61', 'Â£13.34', 'Â£18.97', 'Â£36.28', 'Â£10.16', 'Â£15.44', 'Â£48.41', 'Â£46.35', 'Â£14.07', 'Â£14.86', 'Â£33.37', 'Â£56.40', 'Â£14.02', 'Â£46.91', 'Â£45.61', 'Â£19.92', 'Â£40.11', 'Â£53.90', 'Â£35.67', 'Â£22.00']\n"
     ]
    }
   ],
   "source": [
    "#populate the prices in all the pages\n",
    "book_prices = []\n",
    "for i in range(0, len(soups)):\n",
    "    prices = soups[i].find_all(\"p\", \"price_color\") \n",
    "    for b in range(0, len(prices)):\n",
    "        price = prices[b].getText()\n",
    "        book_prices.append(price)\n",
    "        \n",
    "print(book_prices)"
   ]
  },
  {
   "cell_type": "markdown",
   "id": "92e64f09",
   "metadata": {},
   "source": [
    "### Book Ratings"
   ]
  },
  {
   "cell_type": "code",
   "execution_count": 73,
   "id": "017ca2b7",
   "metadata": {},
   "outputs": [
    {
     "name": "stdout",
     "output_type": "stream",
     "text": [
      "[3, 1, 1, 4, 5, 1, 4, 3, 4, 1, 2, 4, 5, 5, 5, 3, 1, 1, 2, 2, 1, 2, 3, 5, 5, 3, 3, 3, 5, 4, 5, 3, 5, 1, 5, 3, 2, 1, 4, 2, 3, 2, 5, 5, 2, 1, 5, 4, 4, 3, 1, 1, 3, 4, 5, 1, 1, 1, 4, 3, 4, 3, 4, 4, 3, 5, 1, 1, 4, 3, 3, 1, 5, 4, 2, 2, 3, 2, 2, 3, 5, 5, 1, 2, 3, 4, 1, 1, 3, 2, 2, 2, 4, 2, 3, 2, 1, 2, 5, 4]\n"
     ]
    }
   ],
   "source": [
    "#populate the ratings in all the pages\n",
    "book_ratings = []\n",
    "for i in range(0, len(soups)):\n",
    "    product = soups[i].find_all(\"article\", \"product_pod\") \n",
    "    for b in range(0, len(product)):\n",
    "        rating = str(soups[i].find_all(\"article\", \"product_pod\")[b]).split(\">\")[6]\n",
    "        if rating == '\\n<p class=\"star-rating One\"':\n",
    "            book_ratings.append(1)\n",
    "        elif rating == '\\n<p class=\"star-rating Two\"':\n",
    "            book_ratings.append(2)\n",
    "        elif rating == '\\n<p class=\"star-rating Three\"':\n",
    "            book_ratings.append(3)\n",
    "        elif rating == '\\n<p class=\"star-rating Four\"':\n",
    "            book_ratings.append(4)\n",
    "        elif rating == '\\n<p class=\"star-rating Five\"':\n",
    "            book_ratings.append(5)\n",
    "        else:\n",
    "            book_ratings.append(0)\n",
    "        \n",
    "print(book_ratings)"
   ]
  },
  {
   "cell_type": "markdown",
   "id": "ede683b1",
   "metadata": {},
   "source": [
    "### Book Url"
   ]
  },
  {
   "cell_type": "code",
   "execution_count": 110,
   "id": "3f762e8b",
   "metadata": {},
   "outputs": [
    {
     "name": "stdout",
     "output_type": "stream",
     "text": [
      "['https://books.toscrape.com/catalogue/a-light-in-the-attic_1000/index.html', 'https://books.toscrape.com/catalogue/tipping-the-velvet_999/index.html', 'https://books.toscrape.com/catalogue/soumission_998/index.html', 'https://books.toscrape.com/catalogue/sharp-objects_997/index.html', 'https://books.toscrape.com/catalogue/sapiens:-a-brief-history-of-humankind_996/index.html', 'https://books.toscrape.com/catalogue/the-requiem-red_995/index.html', 'https://books.toscrape.com/catalogue/the-dirty-little-secrets-of-getting-your-dream-job_994/index.html', 'https://books.toscrape.com/catalogue/the-coming-woman:-a-novel-based-on-the-life-of-the-infamous-feminist,-victoria-woodhull_993/index.html', 'https://books.toscrape.com/catalogue/the-boys-in-the-boat:-nine-americans-and-their-epic-quest-for-gold-at-the-1936-berlin-olympics_992/index.html', 'https://books.toscrape.com/catalogue/the-black-maria_991/index.html', 'https://books.toscrape.com/catalogue/starving-hearts-(triangular-trade-trilogy,-#1)_990/index.html', \"https://books.toscrape.com/catalogue/shakespeare's-sonnets_989/index.html\", 'https://books.toscrape.com/catalogue/set-me-free_988/index.html', \"https://books.toscrape.com/catalogue/scott-pilgrim's-precious-little-life-(scott-pilgrim-#1)_987/index.html\", 'https://books.toscrape.com/catalogue/rip-it-up-and-start-again_986/index.html', 'https://books.toscrape.com/catalogue/our-band-could-be-your-life:-scenes-from-the-american-indie-underground,-1981-1991_985/index.html', 'https://books.toscrape.com/catalogue/olio_984/index.html', 'https://books.toscrape.com/catalogue/mesaerion:-the-best-science-fiction-stories-1800-1849_983/index.html', 'https://books.toscrape.com/catalogue/libertarianism-for-beginners_982/index.html', \"https://books.toscrape.com/catalogue/it's-only-the-himalayas_981/index.html\", 'https://books.toscrape.com/catalogue/in-her-wake_980/index.html', 'https://books.toscrape.com/catalogue/how-music-works_979/index.html', 'https://books.toscrape.com/catalogue/foolproof-preserving:-a-guide-to-small-batch-jams,-jellies,-pickles,-condiments,-and-more:-a-foolproof-guide-to-making-small-batch-jams,-jellies,-pickles,-condiments,-and-more_978/index.html', 'https://books.toscrape.com/catalogue/chase-me-(paris-nights-#2)_977/index.html', 'https://books.toscrape.com/catalogue/black-dust_976/index.html', 'https://books.toscrape.com/catalogue/birdsong:-a-story-in-pictures_975/index.html', \"https://books.toscrape.com/catalogue/america's-cradle-of-quarterbacks:-western-pennsylvania's-football-factory-from-johnny-unitas-to-joe-montana_974/index.html\", 'https://books.toscrape.com/catalogue/aladdin-and-his-wonderful-lamp_973/index.html', 'https://books.toscrape.com/catalogue/worlds-elsewhere:-journeys-around-shakespeareâ\\x80\\x99s-globe_972/index.html', 'https://books.toscrape.com/catalogue/wall-and-piece_971/index.html', 'https://books.toscrape.com/catalogue/the-four-agreements:-a-practical-guide-to-personal-freedom_970/index.html', 'https://books.toscrape.com/catalogue/the-five-love-languages:-how-to-express-heartfelt-commitment-to-your-mate_969/index.html', 'https://books.toscrape.com/catalogue/the-elephant-tree_968/index.html', 'https://books.toscrape.com/catalogue/the-bear-and-the-piano_967/index.html', \"https://books.toscrape.com/catalogue/sophie's-world_966/index.html\", 'https://books.toscrape.com/catalogue/penny-maybe_965/index.html', 'https://books.toscrape.com/catalogue/maude-(1883-1993):she-grew-up-with-the-country_964/index.html', 'https://books.toscrape.com/catalogue/in-a-dark,-dark-wood_963/index.html', 'https://books.toscrape.com/catalogue/behind-closed-doors_962/index.html', \"https://books.toscrape.com/catalogue/you-can't-bury-them-all:-poems_961/index.html\", 'https://books.toscrape.com/catalogue/slow-states-of-collapse:-poems_960/index.html', 'https://books.toscrape.com/catalogue/reasons-to-stay-alive_959/index.html', 'https://books.toscrape.com/catalogue/private-paris-(private-#10)_958/index.html', 'https://books.toscrape.com/catalogue/#higherselfie:-wake-up-your-life.-free-your-soul.-find-your-tribe._957/index.html', 'https://books.toscrape.com/catalogue/without-borders-(wanderlove-#1)_956/index.html', 'https://books.toscrape.com/catalogue/when-we-collided_955/index.html', 'https://books.toscrape.com/catalogue/we-love-you,-charlie-freeman_954/index.html', 'https://books.toscrape.com/catalogue/untitled-collection:-sabbath-poems-2014_953/index.html', 'https://books.toscrape.com/catalogue/unseen-city:-the-majesty-of-pigeons,-the-discreet-charm-of-snails-&amp;-other-wonders-of-the-urban-wilderness_952/index.html', 'https://books.toscrape.com/catalogue/unicorn-tracks_951/index.html', 'https://books.toscrape.com/catalogue/unbound:-how-eight-technologies-made-us-human,-transformed-society,-and-brought-our-world-to-the-brink_950/index.html', 'https://books.toscrape.com/catalogue/tsubasa:-world-chronicle-2-(tsubasa-world-chronicle-#2)_949/index.html', 'https://books.toscrape.com/catalogue/throwing-rocks-at-the-google-bus:-how-growth-became-the-enemy-of-prosperity_948/index.html', 'https://books.toscrape.com/catalogue/this-one-summer_947/index.html', 'https://books.toscrape.com/catalogue/thirst_946/index.html', 'https://books.toscrape.com/catalogue/the-torch-is-passed:-a-harding-family-story_945/index.html', 'https://books.toscrape.com/catalogue/the-secret-of-dreadwillow-carse_944/index.html', 'https://books.toscrape.com/catalogue/the-pioneer-woman-cooks:-dinnertime:-comfort-classics,-freezer-food,-16-minute-meals,-and-other-delicious-ways-to-solve-supper!_943/index.html', 'https://books.toscrape.com/catalogue/the-past-never-ends_942/index.html', 'https://books.toscrape.com/catalogue/the-natural-history-of-us-(the-fine-art-of-pretending-#2)_941/index.html', 'https://books.toscrape.com/catalogue/the-nameless-city-(the-nameless-city-#1)_940/index.html', 'https://books.toscrape.com/catalogue/the-murder-that-never-was-(forensic-instincts-#5)_939/index.html', \"https://books.toscrape.com/catalogue/the-most-perfect-thing:-inside-(and-outside)-a-bird's-egg_938/index.html\", 'https://books.toscrape.com/catalogue/the-mindfulness-and-acceptance-workbook-for-anxiety:-a-guide-to-breaking-free-from-anxiety,-phobias,-and-worry-using-acceptance-and-commitment-therapy_937/index.html', 'https://books.toscrape.com/catalogue/the-life-changing-magic-of-tidying-up:-the-japanese-art-of-decluttering-and-organizing_936/index.html', 'https://books.toscrape.com/catalogue/the-inefficiency-assassin:-time-management-tactics-for-working-smarter,-not-longer_935/index.html', 'https://books.toscrape.com/catalogue/the-gutsy-girl:-escapades-for-your-life-of-epic-adventure_934/index.html', 'https://books.toscrape.com/catalogue/the-electric-pencil:-drawings-from-inside-state-hospital-no.-3_933/index.html', 'https://books.toscrape.com/catalogue/the-death-of-humanity:-and-the-case-for-life_932/index.html', 'https://books.toscrape.com/catalogue/the-bulletproof-diet:-lose-up-to-a-pound-a-day,-reclaim-energy-and-focus,-upgrade-your-life_931/index.html', 'https://books.toscrape.com/catalogue/the-art-forger_930/index.html', 'https://books.toscrape.com/catalogue/the-age-of-genius:-the-seventeenth-century-and-the-birth-of-the-modern-mind_929/index.html', \"https://books.toscrape.com/catalogue/the-activist's-tao-te-ching:-ancient-advice-for-a-modern-revolution_928/index.html\", 'https://books.toscrape.com/catalogue/spark-joy:-an-illustrated-master-class-on-the-art-of-organizing-and-tidying-up_927/index.html', 'https://books.toscrape.com/catalogue/soul-reader_926/index.html', 'https://books.toscrape.com/catalogue/security_925/index.html', 'https://books.toscrape.com/catalogue/saga,-volume-6-(saga-(collected-editions)-#6)_924/index.html', 'https://books.toscrape.com/catalogue/saga,-volume-5-(saga-(collected-editions)-#5)_923/index.html', 'https://books.toscrape.com/catalogue/reskilling-america:-learning-to-labor-in-the-twenty-first-century_922/index.html', 'https://books.toscrape.com/catalogue/rat-queens,-vol.-3:-demons-(rat-queens-(collected-editions)-#11-15)_921/index.html', 'https://books.toscrape.com/catalogue/princess-jellyfish-2-in-1-omnibus,-vol.-01-(princess-jellyfish-2-in-1-omnibus-#1)_920/index.html', 'https://books.toscrape.com/catalogue/princess-between-worlds-(wide-awake-princess-#5)_919/index.html', 'https://books.toscrape.com/catalogue/pop-gun-war,-volume-1:-gift_918/index.html', 'https://books.toscrape.com/catalogue/political-suicide:-missteps,-peccadilloes,-bad-calls,-backroom-hijinx,-sordid-pasts,-rotten-breaks,-and-just-plain-dumb-mistakes-in-the-annals-of-american-politics_917/index.html', 'https://books.toscrape.com/catalogue/patience_916/index.html', 'https://books.toscrape.com/catalogue/outcast,-vol.-1:-a-darkness-surrounds-him-(outcast-#1)_915/index.html', 'https://books.toscrape.com/catalogue/orange:-the-complete-collection-1-(orange:-the-complete-collection-#1)_914/index.html', 'https://books.toscrape.com/catalogue/online-marketing-for-busy-authors:-a-step-by-step-guide_913/index.html', 'https://books.toscrape.com/catalogue/on-a-midnight-clear_912/index.html', 'https://books.toscrape.com/catalogue/obsidian-(lux-#1)_911/index.html', 'https://books.toscrape.com/catalogue/my-paris-kitchen:-recipes-and-stories_910/index.html', 'https://books.toscrape.com/catalogue/masks-and-shadows_909/index.html', 'https://books.toscrape.com/catalogue/mama-tried:-traditional-italian-cooking-for-the-screwed,-crude,-vegan,-and-tattooed_908/index.html', 'https://books.toscrape.com/catalogue/lumberjanes,-vol.-2:-friendship-to-the-max-(lumberjanes-#5-8)_907/index.html', 'https://books.toscrape.com/catalogue/lumberjanes,-vol.-1:-beware-the-kitten-holy-(lumberjanes-#1-4)_906/index.html', 'https://books.toscrape.com/catalogue/lumberjanes-vol.-3:-a-terrible-plan-(lumberjanes-#9-12)_905/index.html', 'https://books.toscrape.com/catalogue/layered:-baking,-building,-and-styling-spectacular-cakes_904/index.html', 'https://books.toscrape.com/catalogue/judo:-seven-steps-to-black-belt-(an-introductory-guide-for-beginners)_903/index.html', 'https://books.toscrape.com/catalogue/join_902/index.html', 'https://books.toscrape.com/catalogue/in-the-country-we-love:-my-family-divided_901/index.html']\n"
     ]
    }
   ],
   "source": [
    "#generating generic urls\n",
    "book_urls = []\n",
    "for i in range(0, len(book_titles)):\n",
    "    book = book_titles[i].replace(\" \", \"-\").lower()\n",
    "    book_url = 'https://books.toscrape.com/catalogue/{}_{}/index.html'.format(book,1000-i)\n",
    "    book_url = book_url.replace('\"','')\n",
    "    book_urls.append(book_url)\n",
    "    \n",
    "print(book_urls)"
   ]
  },
  {
   "cell_type": "markdown",
   "id": "91e59049",
   "metadata": {},
   "source": [
    "## Creating a DataFrame from collected information"
   ]
  },
  {
   "cell_type": "code",
   "execution_count": 117,
   "id": "cde1c7e6",
   "metadata": {},
   "outputs": [
    {
     "name": "stdout",
     "output_type": "stream",
     "text": [
      "{'Title': ['\"A Light in the Attic\"', '\"Tipping the Velvet\"', '\"Soumission\"', '\"Sharp Objects\"', '\"Sapiens: A Brief History of Humankind\"', '\"The Requiem Red\"', '\"The Dirty Little Secrets of Getting Your Dream Job\"', '\"The Coming Woman: A Novel Based on the Life of the Infamous Feminist, Victoria Woodhull\"', '\"The Boys in the Boat: Nine Americans and Their Epic Quest for Gold at the 1936 Berlin Olympics\"', '\"The Black Maria\"', '\"Starving Hearts (Triangular Trade Trilogy, #1)\"', '\"Shakespeare\\'s Sonnets\"', '\"Set Me Free\"', '\"Scott Pilgrim\\'s Precious Little Life (Scott Pilgrim #1)\"', '\"Rip it Up and Start Again\"', '\"Our Band Could Be Your Life: Scenes from the American Indie Underground, 1981-1991\"', '\"Olio\"', '\"Mesaerion: The Best Science Fiction Stories 1800-1849\"', '\"Libertarianism for Beginners\"', '\"It\\'s Only the Himalayas\"', '\"In Her Wake\"', '\"How Music Works\"', '\"Foolproof Preserving: A Guide to Small Batch Jams, Jellies, Pickles, Condiments, and More: A Foolproof Guide to Making Small Batch Jams, Jellies, Pickles, Condiments, and More\"', '\"Chase Me (Paris Nights #2)\"', '\"Black Dust\"', '\"Birdsong: A Story in Pictures\"', '\"America\\'s Cradle of Quarterbacks: Western Pennsylvania\\'s Football Factory from Johnny Unitas to Joe Montana\"', '\"Aladdin and His Wonderful Lamp\"', '\"Worlds Elsewhere: Journeys Around Shakespeareâ\\x80\\x99s Globe\"', '\"Wall and Piece\"', '\"The Four Agreements: A Practical Guide to Personal Freedom\"', '\"The Five Love Languages: How to Express Heartfelt Commitment to Your Mate\"', '\"The Elephant Tree\"', '\"The Bear and the Piano\"', '\"Sophie\\'s World\"', '\"Penny Maybe\"', '\"Maude (1883-1993):She Grew Up with the country\"', '\"In a Dark, Dark Wood\"', '\"Behind Closed Doors\"', '\"You can\\'t bury them all: Poems\"', '\"Slow States of Collapse: Poems\"', '\"Reasons to Stay Alive\"', '\"Private Paris (Private #10)\"', '\"#HigherSelfie: Wake Up Your Life. Free Your Soul. Find Your Tribe.\"', '\"Without Borders (Wanderlove #1)\"', '\"When We Collided\"', '\"We Love You, Charlie Freeman\"', '\"Untitled Collection: Sabbath Poems 2014\"', '\"Unseen City: The Majesty of Pigeons, the Discreet Charm of Snails &amp; Other Wonders of the Urban Wilderness\"', '\"Unicorn Tracks\"', '\"Unbound: How Eight Technologies Made Us Human, Transformed Society, and Brought Our World to the Brink\"', '\"Tsubasa: WoRLD CHRoNiCLE 2 (Tsubasa WoRLD CHRoNiCLE #2)\"', '\"Throwing Rocks at the Google Bus: How Growth Became the Enemy of Prosperity\"', '\"This One Summer\"', '\"Thirst\"', '\"The Torch Is Passed: A Harding Family Story\"', '\"The Secret of Dreadwillow Carse\"', '\"The Pioneer Woman Cooks: Dinnertime: Comfort Classics, Freezer Food, 16-Minute Meals, and Other Delicious Ways to Solve Supper!\"', '\"The Past Never Ends\"', '\"The Natural History of Us (The Fine Art of Pretending #2)\"', '\"The Nameless City (The Nameless City #1)\"', '\"The Murder That Never Was (Forensic Instincts #5)\"', '\"The Most Perfect Thing: Inside (and Outside) a Bird\\'s Egg\"', '\"The Mindfulness and Acceptance Workbook for Anxiety: A Guide to Breaking Free from Anxiety, Phobias, and Worry Using Acceptance and Commitment Therapy\"', '\"The Life-Changing Magic of Tidying Up: The Japanese Art of Decluttering and Organizing\"', '\"The Inefficiency Assassin: Time Management Tactics for Working Smarter, Not Longer\"', '\"The Gutsy Girl: Escapades for Your Life of Epic Adventure\"', '\"The Electric Pencil: Drawings from Inside State Hospital No. 3\"', '\"The Death of Humanity: and the Case for Life\"', '\"The Bulletproof Diet: Lose up to a Pound a Day, Reclaim Energy and Focus, Upgrade Your Life\"', '\"The Art Forger\"', '\"The Age of Genius: The Seventeenth Century and the Birth of the Modern Mind\"', '\"The Activist\\'s Tao Te Ching: Ancient Advice for a Modern Revolution\"', '\"Spark Joy: An Illustrated Master Class on the Art of Organizing and Tidying Up\"', '\"Soul Reader\"', '\"Security\"', '\"Saga, Volume 6 (Saga (Collected Editions) #6)\"', '\"Saga, Volume 5 (Saga (Collected Editions) #5)\"', '\"Reskilling America: Learning to Labor in the Twenty-First Century\"', '\"Rat Queens, Vol. 3: Demons (Rat Queens (Collected Editions) #11-15)\"', '\"Princess Jellyfish 2-in-1 Omnibus, Vol. 01 (Princess Jellyfish 2-in-1 Omnibus #1)\"', '\"Princess Between Worlds (Wide-Awake Princess #5)\"', '\"Pop Gun War, Volume 1: Gift\"', '\"Political Suicide: Missteps, Peccadilloes, Bad Calls, Backroom Hijinx, Sordid Pasts, Rotten Breaks, and Just Plain Dumb Mistakes in the Annals of American Politics\"', '\"Patience\"', '\"Outcast, Vol. 1: A Darkness Surrounds Him (Outcast #1)\"', '\"orange: The Complete Collection 1 (orange: The Complete Collection #1)\"', '\"Online Marketing for Busy Authors: A Step-By-Step Guide\"', '\"On a Midnight Clear\"', '\"Obsidian (Lux #1)\"', '\"My Paris Kitchen: Recipes and Stories\"', '\"Masks and Shadows\"', '\"Mama Tried: Traditional Italian Cooking for the Screwed, Crude, Vegan, and Tattooed\"', '\"Lumberjanes, Vol. 2: Friendship to the Max (Lumberjanes #5-8)\"', '\"Lumberjanes, Vol. 1: Beware the Kitten Holy (Lumberjanes #1-4)\"', '\"Lumberjanes Vol. 3: A Terrible Plan (Lumberjanes #9-12)\"', '\"Layered: Baking, Building, and Styling Spectacular Cakes\"', '\"Judo: Seven Steps to Black Belt (an Introductory Guide for Beginners)\"', '\"Join\"', '\"In the Country We Love: My Family Divided\"'], 'Price': ['Â£51.77', 'Â£53.74', 'Â£50.10', 'Â£47.82', 'Â£54.23', 'Â£22.65', 'Â£33.34', 'Â£17.93', 'Â£22.60', 'Â£52.15', 'Â£13.99', 'Â£20.66', 'Â£17.46', 'Â£52.29', 'Â£35.02', 'Â£57.25', 'Â£23.88', 'Â£37.59', 'Â£51.33', 'Â£45.17', 'Â£12.84', 'Â£37.32', 'Â£30.52', 'Â£25.27', 'Â£34.53', 'Â£54.64', 'Â£22.50', 'Â£53.13', 'Â£40.30', 'Â£44.18', 'Â£17.66', 'Â£31.05', 'Â£23.82', 'Â£36.89', 'Â£15.94', 'Â£33.29', 'Â£18.02', 'Â£19.63', 'Â£52.22', 'Â£33.63', 'Â£57.31', 'Â£26.41', 'Â£47.61', 'Â£23.11', 'Â£45.07', 'Â£31.77', 'Â£50.27', 'Â£14.27', 'Â£44.18', 'Â£18.78', 'Â£25.52', 'Â£16.28', 'Â£31.12', 'Â£19.49', 'Â£17.27', 'Â£19.09', 'Â£56.13', 'Â£56.41', 'Â£56.50', 'Â£45.22', 'Â£38.16', 'Â£54.11', 'Â£42.96', 'Â£23.89', 'Â£16.77', 'Â£20.59', 'Â£37.13', 'Â£56.06', 'Â£58.11', 'Â£49.05', 'Â£40.76', 'Â£19.73', 'Â£32.24', 'Â£41.83', 'Â£39.58', 'Â£39.25', 'Â£25.02', 'Â£51.04', 'Â£19.83', 'Â£50.40', 'Â£13.61', 'Â£13.34', 'Â£18.97', 'Â£36.28', 'Â£10.16', 'Â£15.44', 'Â£48.41', 'Â£46.35', 'Â£14.07', 'Â£14.86', 'Â£33.37', 'Â£56.40', 'Â£14.02', 'Â£46.91', 'Â£45.61', 'Â£19.92', 'Â£40.11', 'Â£53.90', 'Â£35.67', 'Â£22.00'], 'Rating': [3, 1, 1, 4, 5, 1, 4, 3, 4, 1, 2, 4, 5, 5, 5, 3, 1, 1, 2, 2, 1, 2, 3, 5, 5, 3, 3, 3, 5, 4, 5, 3, 5, 1, 5, 3, 2, 1, 4, 2, 3, 2, 5, 5, 2, 1, 5, 4, 4, 3, 1, 1, 3, 4, 5, 1, 1, 1, 4, 3, 4, 3, 4, 4, 3, 5, 1, 1, 4, 3, 3, 1, 5, 4, 2, 2, 3, 2, 2, 3, 5, 5, 1, 2, 3, 4, 1, 1, 3, 2, 2, 2, 4, 2, 3, 2, 1, 2, 5, 4], 'URL': ['https://books.toscrape.com/catalogue/a-light-in-the-attic_1000/index.html', 'https://books.toscrape.com/catalogue/tipping-the-velvet_999/index.html', 'https://books.toscrape.com/catalogue/soumission_998/index.html', 'https://books.toscrape.com/catalogue/sharp-objects_997/index.html', 'https://books.toscrape.com/catalogue/sapiens:-a-brief-history-of-humankind_996/index.html', 'https://books.toscrape.com/catalogue/the-requiem-red_995/index.html', 'https://books.toscrape.com/catalogue/the-dirty-little-secrets-of-getting-your-dream-job_994/index.html', 'https://books.toscrape.com/catalogue/the-coming-woman:-a-novel-based-on-the-life-of-the-infamous-feminist,-victoria-woodhull_993/index.html', 'https://books.toscrape.com/catalogue/the-boys-in-the-boat:-nine-americans-and-their-epic-quest-for-gold-at-the-1936-berlin-olympics_992/index.html', 'https://books.toscrape.com/catalogue/the-black-maria_991/index.html', 'https://books.toscrape.com/catalogue/starving-hearts-(triangular-trade-trilogy,-#1)_990/index.html', \"https://books.toscrape.com/catalogue/shakespeare's-sonnets_989/index.html\", 'https://books.toscrape.com/catalogue/set-me-free_988/index.html', \"https://books.toscrape.com/catalogue/scott-pilgrim's-precious-little-life-(scott-pilgrim-#1)_987/index.html\", 'https://books.toscrape.com/catalogue/rip-it-up-and-start-again_986/index.html', 'https://books.toscrape.com/catalogue/our-band-could-be-your-life:-scenes-from-the-american-indie-underground,-1981-1991_985/index.html', 'https://books.toscrape.com/catalogue/olio_984/index.html', 'https://books.toscrape.com/catalogue/mesaerion:-the-best-science-fiction-stories-1800-1849_983/index.html', 'https://books.toscrape.com/catalogue/libertarianism-for-beginners_982/index.html', \"https://books.toscrape.com/catalogue/it's-only-the-himalayas_981/index.html\", 'https://books.toscrape.com/catalogue/in-her-wake_980/index.html', 'https://books.toscrape.com/catalogue/how-music-works_979/index.html', 'https://books.toscrape.com/catalogue/foolproof-preserving:-a-guide-to-small-batch-jams,-jellies,-pickles,-condiments,-and-more:-a-foolproof-guide-to-making-small-batch-jams,-jellies,-pickles,-condiments,-and-more_978/index.html', 'https://books.toscrape.com/catalogue/chase-me-(paris-nights-#2)_977/index.html', 'https://books.toscrape.com/catalogue/black-dust_976/index.html', 'https://books.toscrape.com/catalogue/birdsong:-a-story-in-pictures_975/index.html', \"https://books.toscrape.com/catalogue/america's-cradle-of-quarterbacks:-western-pennsylvania's-football-factory-from-johnny-unitas-to-joe-montana_974/index.html\", 'https://books.toscrape.com/catalogue/aladdin-and-his-wonderful-lamp_973/index.html', 'https://books.toscrape.com/catalogue/worlds-elsewhere:-journeys-around-shakespeareâ\\x80\\x99s-globe_972/index.html', 'https://books.toscrape.com/catalogue/wall-and-piece_971/index.html', 'https://books.toscrape.com/catalogue/the-four-agreements:-a-practical-guide-to-personal-freedom_970/index.html', 'https://books.toscrape.com/catalogue/the-five-love-languages:-how-to-express-heartfelt-commitment-to-your-mate_969/index.html', 'https://books.toscrape.com/catalogue/the-elephant-tree_968/index.html', 'https://books.toscrape.com/catalogue/the-bear-and-the-piano_967/index.html', \"https://books.toscrape.com/catalogue/sophie's-world_966/index.html\", 'https://books.toscrape.com/catalogue/penny-maybe_965/index.html', 'https://books.toscrape.com/catalogue/maude-(1883-1993):she-grew-up-with-the-country_964/index.html', 'https://books.toscrape.com/catalogue/in-a-dark,-dark-wood_963/index.html', 'https://books.toscrape.com/catalogue/behind-closed-doors_962/index.html', \"https://books.toscrape.com/catalogue/you-can't-bury-them-all:-poems_961/index.html\", 'https://books.toscrape.com/catalogue/slow-states-of-collapse:-poems_960/index.html', 'https://books.toscrape.com/catalogue/reasons-to-stay-alive_959/index.html', 'https://books.toscrape.com/catalogue/private-paris-(private-#10)_958/index.html', 'https://books.toscrape.com/catalogue/#higherselfie:-wake-up-your-life.-free-your-soul.-find-your-tribe._957/index.html', 'https://books.toscrape.com/catalogue/without-borders-(wanderlove-#1)_956/index.html', 'https://books.toscrape.com/catalogue/when-we-collided_955/index.html', 'https://books.toscrape.com/catalogue/we-love-you,-charlie-freeman_954/index.html', 'https://books.toscrape.com/catalogue/untitled-collection:-sabbath-poems-2014_953/index.html', 'https://books.toscrape.com/catalogue/unseen-city:-the-majesty-of-pigeons,-the-discreet-charm-of-snails-&amp;-other-wonders-of-the-urban-wilderness_952/index.html', 'https://books.toscrape.com/catalogue/unicorn-tracks_951/index.html', 'https://books.toscrape.com/catalogue/unbound:-how-eight-technologies-made-us-human,-transformed-society,-and-brought-our-world-to-the-brink_950/index.html', 'https://books.toscrape.com/catalogue/tsubasa:-world-chronicle-2-(tsubasa-world-chronicle-#2)_949/index.html', 'https://books.toscrape.com/catalogue/throwing-rocks-at-the-google-bus:-how-growth-became-the-enemy-of-prosperity_948/index.html', 'https://books.toscrape.com/catalogue/this-one-summer_947/index.html', 'https://books.toscrape.com/catalogue/thirst_946/index.html', 'https://books.toscrape.com/catalogue/the-torch-is-passed:-a-harding-family-story_945/index.html', 'https://books.toscrape.com/catalogue/the-secret-of-dreadwillow-carse_944/index.html', 'https://books.toscrape.com/catalogue/the-pioneer-woman-cooks:-dinnertime:-comfort-classics,-freezer-food,-16-minute-meals,-and-other-delicious-ways-to-solve-supper!_943/index.html', 'https://books.toscrape.com/catalogue/the-past-never-ends_942/index.html', 'https://books.toscrape.com/catalogue/the-natural-history-of-us-(the-fine-art-of-pretending-#2)_941/index.html', 'https://books.toscrape.com/catalogue/the-nameless-city-(the-nameless-city-#1)_940/index.html', 'https://books.toscrape.com/catalogue/the-murder-that-never-was-(forensic-instincts-#5)_939/index.html', \"https://books.toscrape.com/catalogue/the-most-perfect-thing:-inside-(and-outside)-a-bird's-egg_938/index.html\", 'https://books.toscrape.com/catalogue/the-mindfulness-and-acceptance-workbook-for-anxiety:-a-guide-to-breaking-free-from-anxiety,-phobias,-and-worry-using-acceptance-and-commitment-therapy_937/index.html', 'https://books.toscrape.com/catalogue/the-life-changing-magic-of-tidying-up:-the-japanese-art-of-decluttering-and-organizing_936/index.html', 'https://books.toscrape.com/catalogue/the-inefficiency-assassin:-time-management-tactics-for-working-smarter,-not-longer_935/index.html', 'https://books.toscrape.com/catalogue/the-gutsy-girl:-escapades-for-your-life-of-epic-adventure_934/index.html', 'https://books.toscrape.com/catalogue/the-electric-pencil:-drawings-from-inside-state-hospital-no.-3_933/index.html', 'https://books.toscrape.com/catalogue/the-death-of-humanity:-and-the-case-for-life_932/index.html', 'https://books.toscrape.com/catalogue/the-bulletproof-diet:-lose-up-to-a-pound-a-day,-reclaim-energy-and-focus,-upgrade-your-life_931/index.html', 'https://books.toscrape.com/catalogue/the-art-forger_930/index.html', 'https://books.toscrape.com/catalogue/the-age-of-genius:-the-seventeenth-century-and-the-birth-of-the-modern-mind_929/index.html', \"https://books.toscrape.com/catalogue/the-activist's-tao-te-ching:-ancient-advice-for-a-modern-revolution_928/index.html\", 'https://books.toscrape.com/catalogue/spark-joy:-an-illustrated-master-class-on-the-art-of-organizing-and-tidying-up_927/index.html', 'https://books.toscrape.com/catalogue/soul-reader_926/index.html', 'https://books.toscrape.com/catalogue/security_925/index.html', 'https://books.toscrape.com/catalogue/saga,-volume-6-(saga-(collected-editions)-#6)_924/index.html', 'https://books.toscrape.com/catalogue/saga,-volume-5-(saga-(collected-editions)-#5)_923/index.html', 'https://books.toscrape.com/catalogue/reskilling-america:-learning-to-labor-in-the-twenty-first-century_922/index.html', 'https://books.toscrape.com/catalogue/rat-queens,-vol.-3:-demons-(rat-queens-(collected-editions)-#11-15)_921/index.html', 'https://books.toscrape.com/catalogue/princess-jellyfish-2-in-1-omnibus,-vol.-01-(princess-jellyfish-2-in-1-omnibus-#1)_920/index.html', 'https://books.toscrape.com/catalogue/princess-between-worlds-(wide-awake-princess-#5)_919/index.html', 'https://books.toscrape.com/catalogue/pop-gun-war,-volume-1:-gift_918/index.html', 'https://books.toscrape.com/catalogue/political-suicide:-missteps,-peccadilloes,-bad-calls,-backroom-hijinx,-sordid-pasts,-rotten-breaks,-and-just-plain-dumb-mistakes-in-the-annals-of-american-politics_917/index.html', 'https://books.toscrape.com/catalogue/patience_916/index.html', 'https://books.toscrape.com/catalogue/outcast,-vol.-1:-a-darkness-surrounds-him-(outcast-#1)_915/index.html', 'https://books.toscrape.com/catalogue/orange:-the-complete-collection-1-(orange:-the-complete-collection-#1)_914/index.html', 'https://books.toscrape.com/catalogue/online-marketing-for-busy-authors:-a-step-by-step-guide_913/index.html', 'https://books.toscrape.com/catalogue/on-a-midnight-clear_912/index.html', 'https://books.toscrape.com/catalogue/obsidian-(lux-#1)_911/index.html', 'https://books.toscrape.com/catalogue/my-paris-kitchen:-recipes-and-stories_910/index.html', 'https://books.toscrape.com/catalogue/masks-and-shadows_909/index.html', 'https://books.toscrape.com/catalogue/mama-tried:-traditional-italian-cooking-for-the-screwed,-crude,-vegan,-and-tattooed_908/index.html', 'https://books.toscrape.com/catalogue/lumberjanes,-vol.-2:-friendship-to-the-max-(lumberjanes-#5-8)_907/index.html', 'https://books.toscrape.com/catalogue/lumberjanes,-vol.-1:-beware-the-kitten-holy-(lumberjanes-#1-4)_906/index.html', 'https://books.toscrape.com/catalogue/lumberjanes-vol.-3:-a-terrible-plan-(lumberjanes-#9-12)_905/index.html', 'https://books.toscrape.com/catalogue/layered:-baking,-building,-and-styling-spectacular-cakes_904/index.html', 'https://books.toscrape.com/catalogue/judo:-seven-steps-to-black-belt-(an-introductory-guide-for-beginners)_903/index.html', 'https://books.toscrape.com/catalogue/join_902/index.html', 'https://books.toscrape.com/catalogue/in-the-country-we-love:-my-family-divided_901/index.html']}\n"
     ]
    }
   ],
   "source": [
    "books_details = {\"Title\":book_titles,\n",
    "                \"Price\":book_prices,\n",
    "                \"Rating\":book_ratings,\n",
    "                \"URL\":book_urls}\n",
    "print(books_details)"
   ]
  },
  {
   "cell_type": "code",
   "execution_count": 118,
   "id": "ed672ed4",
   "metadata": {},
   "outputs": [],
   "source": [
    "import pandas as pd"
   ]
  },
  {
   "cell_type": "code",
   "execution_count": 146,
   "id": "8cd731f3",
   "metadata": {},
   "outputs": [],
   "source": [
    "Books = pd.DataFrame(books_details)"
   ]
  },
  {
   "cell_type": "code",
   "execution_count": 147,
   "id": "2526d64a",
   "metadata": {},
   "outputs": [],
   "source": [
    "Books.index += 1"
   ]
  },
  {
   "cell_type": "code",
   "execution_count": 148,
   "id": "4d7578e6",
   "metadata": {},
   "outputs": [],
   "source": [
    "Books[\"Price\"] = Books[\"Price\"].str.replace(\"Â£\",\"\")"
   ]
  },
  {
   "cell_type": "code",
   "execution_count": 150,
   "id": "58c99bc8",
   "metadata": {},
   "outputs": [
    {
     "data": {
      "text/html": [
       "<div>\n",
       "<style scoped>\n",
       "    .dataframe tbody tr th:only-of-type {\n",
       "        vertical-align: middle;\n",
       "    }\n",
       "\n",
       "    .dataframe tbody tr th {\n",
       "        vertical-align: top;\n",
       "    }\n",
       "\n",
       "    .dataframe thead th {\n",
       "        text-align: right;\n",
       "    }\n",
       "</style>\n",
       "<table border=\"1\" class=\"dataframe\">\n",
       "  <thead>\n",
       "    <tr style=\"text-align: right;\">\n",
       "      <th></th>\n",
       "      <th>Title</th>\n",
       "      <th>Price</th>\n",
       "      <th>Rating</th>\n",
       "      <th>URL</th>\n",
       "    </tr>\n",
       "  </thead>\n",
       "  <tbody>\n",
       "    <tr>\n",
       "      <th>1</th>\n",
       "      <td>\"A Light in the Attic\"</td>\n",
       "      <td>51.77</td>\n",
       "      <td>3</td>\n",
       "      <td>https://books.toscrape.com/catalogue/a-light-i...</td>\n",
       "    </tr>\n",
       "    <tr>\n",
       "      <th>2</th>\n",
       "      <td>\"Tipping the Velvet\"</td>\n",
       "      <td>53.74</td>\n",
       "      <td>1</td>\n",
       "      <td>https://books.toscrape.com/catalogue/tipping-t...</td>\n",
       "    </tr>\n",
       "    <tr>\n",
       "      <th>3</th>\n",
       "      <td>\"Soumission\"</td>\n",
       "      <td>50.10</td>\n",
       "      <td>1</td>\n",
       "      <td>https://books.toscrape.com/catalogue/soumissio...</td>\n",
       "    </tr>\n",
       "    <tr>\n",
       "      <th>4</th>\n",
       "      <td>\"Sharp Objects\"</td>\n",
       "      <td>47.82</td>\n",
       "      <td>4</td>\n",
       "      <td>https://books.toscrape.com/catalogue/sharp-obj...</td>\n",
       "    </tr>\n",
       "    <tr>\n",
       "      <th>5</th>\n",
       "      <td>\"Sapiens: A Brief History of Humankind\"</td>\n",
       "      <td>54.23</td>\n",
       "      <td>5</td>\n",
       "      <td>https://books.toscrape.com/catalogue/sapiens:-...</td>\n",
       "    </tr>\n",
       "    <tr>\n",
       "      <th>...</th>\n",
       "      <td>...</td>\n",
       "      <td>...</td>\n",
       "      <td>...</td>\n",
       "      <td>...</td>\n",
       "    </tr>\n",
       "    <tr>\n",
       "      <th>96</th>\n",
       "      <td>\"Lumberjanes Vol. 3: A Terrible Plan (Lumberja...</td>\n",
       "      <td>19.92</td>\n",
       "      <td>2</td>\n",
       "      <td>https://books.toscrape.com/catalogue/lumberjan...</td>\n",
       "    </tr>\n",
       "    <tr>\n",
       "      <th>97</th>\n",
       "      <td>\"Layered: Baking, Building, and Styling Specta...</td>\n",
       "      <td>40.11</td>\n",
       "      <td>1</td>\n",
       "      <td>https://books.toscrape.com/catalogue/layered:-...</td>\n",
       "    </tr>\n",
       "    <tr>\n",
       "      <th>98</th>\n",
       "      <td>\"Judo: Seven Steps to Black Belt (an Introduct...</td>\n",
       "      <td>53.90</td>\n",
       "      <td>2</td>\n",
       "      <td>https://books.toscrape.com/catalogue/judo:-sev...</td>\n",
       "    </tr>\n",
       "    <tr>\n",
       "      <th>99</th>\n",
       "      <td>\"Join\"</td>\n",
       "      <td>35.67</td>\n",
       "      <td>5</td>\n",
       "      <td>https://books.toscrape.com/catalogue/join_902/...</td>\n",
       "    </tr>\n",
       "    <tr>\n",
       "      <th>100</th>\n",
       "      <td>\"In the Country We Love: My Family Divided\"</td>\n",
       "      <td>22.00</td>\n",
       "      <td>4</td>\n",
       "      <td>https://books.toscrape.com/catalogue/in-the-co...</td>\n",
       "    </tr>\n",
       "  </tbody>\n",
       "</table>\n",
       "<p>100 rows × 4 columns</p>\n",
       "</div>"
      ],
      "text/plain": [
       "                                                 Title  Price  Rating  \\\n",
       "1                               \"A Light in the Attic\"  51.77       3   \n",
       "2                                 \"Tipping the Velvet\"  53.74       1   \n",
       "3                                         \"Soumission\"  50.10       1   \n",
       "4                                      \"Sharp Objects\"  47.82       4   \n",
       "5              \"Sapiens: A Brief History of Humankind\"  54.23       5   \n",
       "..                                                 ...    ...     ...   \n",
       "96   \"Lumberjanes Vol. 3: A Terrible Plan (Lumberja...  19.92       2   \n",
       "97   \"Layered: Baking, Building, and Styling Specta...  40.11       1   \n",
       "98   \"Judo: Seven Steps to Black Belt (an Introduct...  53.90       2   \n",
       "99                                              \"Join\"  35.67       5   \n",
       "100        \"In the Country We Love: My Family Divided\"  22.00       4   \n",
       "\n",
       "                                                   URL  \n",
       "1    https://books.toscrape.com/catalogue/a-light-i...  \n",
       "2    https://books.toscrape.com/catalogue/tipping-t...  \n",
       "3    https://books.toscrape.com/catalogue/soumissio...  \n",
       "4    https://books.toscrape.com/catalogue/sharp-obj...  \n",
       "5    https://books.toscrape.com/catalogue/sapiens:-...  \n",
       "..                                                 ...  \n",
       "96   https://books.toscrape.com/catalogue/lumberjan...  \n",
       "97   https://books.toscrape.com/catalogue/layered:-...  \n",
       "98   https://books.toscrape.com/catalogue/judo:-sev...  \n",
       "99   https://books.toscrape.com/catalogue/join_902/...  \n",
       "100  https://books.toscrape.com/catalogue/in-the-co...  \n",
       "\n",
       "[100 rows x 4 columns]"
      ]
     },
     "execution_count": 150,
     "metadata": {},
     "output_type": "execute_result"
    }
   ],
   "source": [
    "Books"
   ]
  },
  {
   "cell_type": "code",
   "execution_count": 151,
   "id": "95945c78",
   "metadata": {},
   "outputs": [],
   "source": [
    "Books.to_csv(\"Book_details.csv\")"
   ]
  },
  {
   "cell_type": "code",
   "execution_count": null,
   "id": "d55860e2",
   "metadata": {},
   "outputs": [],
   "source": []
  }
 ],
 "metadata": {
  "kernelspec": {
   "display_name": "Python 3",
   "language": "python",
   "name": "python3"
  },
  "language_info": {
   "codemirror_mode": {
    "name": "ipython",
    "version": 3
   },
   "file_extension": ".py",
   "mimetype": "text/x-python",
   "name": "python",
   "nbconvert_exporter": "python",
   "pygments_lexer": "ipython3",
   "version": "3.8.8"
  }
 },
 "nbformat": 4,
 "nbformat_minor": 5
}
